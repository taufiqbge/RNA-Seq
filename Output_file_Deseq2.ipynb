{
 "cells": [
  {
   "cell_type": "code",
   "execution_count": 1,
   "metadata": {},
   "outputs": [
    {
     "name": "stdout",
     "output_type": "stream",
     "text": [
      "done\n"
     ]
    }
   ],
   "source": [
    "## keep this file in the same diretory where all the data files exist##\n",
    "## keep all the output filename same so that it will overlap every execution ##\n",
    "#=============================================================================================== #\n",
    "import pandas as pd\n",
    "import csv\n",
    "import operator\n",
    "\n",
    "## NEB13,14,16= 0hr data and BR1,BR2,BR3 = 6hr RNA seq data; make sure you are inputing right data in order##\n",
    "#=============================================================================================== #\n",
    "\n",
    "df1= pd.read_csv('NEB13.csv')\n",
    "df2= pd.read_csv('NEB14.csv')\n",
    "df3= pd.read_csv('NEB16.csv')\n",
    "df4= pd.read_csv('NEB21.csv')\n",
    "df5= pd.read_csv('NEB222.csv')\n",
    "df6= pd.read_csv('NEB225.csv')\n",
    "\n",
    "## merged/concatenate all the data in csv file ##\n",
    "#=================================================#\n",
    "df = pd.concat([df1, df2, df3, df4, df5, df6])\n",
    "\n",
    "## concatenated data save as .csv file ##\n",
    "#=================================================# \n",
    "data_merged = df.to_csv(\"output_0h-6h.csv\",index=False) # index=false first column with serial number omit##\n",
    "\n",
    "## Read the .csv file for acending order base on 'gene and name', this step is important as in next step deseq2-r script are designed in this way##\n",
    "#--------------------------------------------------------------------------------##\n",
    "data=pd.read_csv(\"output_0h-6h.csv\") \n",
    "\n",
    "data1= data.sort_values(by=['gene','Name'],ascending=True)\n",
    "\n",
    "data2=data1.to_csv (\"output_0h-6h.csv\",index=False)\n",
    "\n",
    "print('done')"
   ]
  }
 ],
 "metadata": {
  "kernelspec": {
   "display_name": "Python 3",
   "language": "python",
   "name": "python3"
  },
  "language_info": {
   "codemirror_mode": {
    "name": "ipython",
    "version": 3
   },
   "file_extension": ".py",
   "mimetype": "text/x-python",
   "name": "python",
   "nbconvert_exporter": "python",
   "pygments_lexer": "ipython3",
   "version": "3.8.3"
  }
 },
 "nbformat": 4,
 "nbformat_minor": 4
}
